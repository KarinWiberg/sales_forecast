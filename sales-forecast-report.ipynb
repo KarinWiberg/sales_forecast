{
 "cells": [
  {
   "cell_type": "code",
   "execution_count": 1,
   "id": "fuzzy-morocco",
   "metadata": {
    "slideshow": {
     "slide_type": "skip"
    }
   },
   "outputs": [],
   "source": [
    "import pandas as pd"
   ]
  },
  {
   "cell_type": "markdown",
   "id": "egyptian-advantage",
   "metadata": {
    "slideshow": {
     "slide_type": "slide"
    }
   },
   "source": [
    "# Sales Forecast Prediction\n",
    "This task uses a dataset for a large Austrailian company Austral AB with sales data from a 1009 of stores in 20 fictitious towns."
   ]
  },
  {
   "cell_type": "markdown",
   "id": "aboriginal-straight",
   "metadata": {
    "slideshow": {
     "slide_type": "subslide"
    }
   },
   "source": [
    "## Problem Description\n",
    "In uncertain business times, Austral AB would love to have predictable revenue. The revenue is often the starting point for annual plans and budgets affecting the whole organization. Now after the last expansion 2009, where they expanded from 250 to 1009 stores, and with distributed sales teams the future growth strategy highly rely on revenue forecasting.\n",
    "\n",
    "With sales forecasting they woud be able to:\n",
    "- Make better business decisions for business planning, budgeting and risk management.\n",
    "- Efficiently allocate resources for future growth and cash flow management.\n",
    "- Efficiently mange the sales teams achieve their goals by preventative instead of reactive management. \n",
    "- Estimate costs and revenue accurately, and therefore ability to predict the companys short- and long-term performance.\n",
    "\n",
    "However, they noticed that their current short term forecasting is way off the reality and would therfore like some help to predict number of customers and revenue. \n"
   ]
  },
  {
   "cell_type": "markdown",
   "id": "absent-wagner",
   "metadata": {
    "slideshow": {
     "slide_type": "subslide"
    }
   },
   "source": [
    "## Objective\n",
    "To predict the number of customers and the sales figures for the time period that follows directly after the time period covered in the dataset (2012-01-01 - 2012-02-03).\n"
   ]
  },
  {
   "cell_type": "markdown",
   "id": "internal-tragedy",
   "metadata": {
    "slideshow": {
     "slide_type": "subslide"
    }
   },
   "source": [
    "## Data\n",
    "\n",
    "### Files\n",
    "- Train model: `sales_data.csv` (~ 900.000 entries)\n",
    "- Produce predictions on `sales_data_forecast.csv` (~ 35.000 entries)\n",
    "- Deliver `sales_data_forecast.csv` with prediction of `n_cust` and `revenue`\n",
    "\n",
    "### Features\n",
    "- `store_id`: An integer ID for each store \n",
    "- `date`: The date in year-month-day format (string)\n",
    "- `is_store_open`: Binary variable indicating if the store is open on this date or not (1 = open)\n",
    "- `is_sale_period`: Binary variable indicating if the store has an ongoing sale (1 = yes)\n",
    "- `town`: Name of the (fictitious) town\n"
   ]
  },
  {
   "cell_type": "markdown",
   "id": "heavy-above",
   "metadata": {
    "slideshow": {
     "slide_type": "subslide"
    }
   },
   "source": [
    "### Target Variables\n",
    "- `n_cust`: The number of customers who visited the store on the given date\n",
    "- `revenue`: The total revenue that was earned by the store on the given date"
   ]
  },
  {
   "cell_type": "markdown",
   "id": "complete-shelter",
   "metadata": {
    "slideshow": {
     "slide_type": "slide"
    }
   },
   "source": [
    "# Exploratory Data Analysis"
   ]
  },
  {
   "cell_type": "markdown",
   "id": "mechanical-frederick",
   "metadata": {
    "slideshow": {
     "slide_type": "subslide"
    }
   },
   "source": [
    "## Business Context\n",
    "### Training Data\n",
    "- Number of stores: 1009\n",
    "- Number of towns: 20\n",
    "- Dates: 2009-07-07 - 2011-12-31\n",
    "- Nr of days: 908\n",
    "- Percent open: 82.9 %\n",
    "- Percent sale period: 37.92 %\n",
    "- Number of customers: 0 - 10065 (mean 778)\n",
    "- Revenue: 0 - 70935  (mean 7099)\n",
    "    "
   ]
  },
  {
   "cell_type": "markdown",
   "id": "oriented-portuguese",
   "metadata": {
    "slideshow": {
     "slide_type": "fragment"
    }
   },
   "source": [
    "### Test Data\n",
    "- Number of stores: 1009\n",
    "- Number of towns: 20\n",
    "- Dates: 2012-01-01 - 2012-02-03\n",
    "- Nr of days: 34\n",
    "- Percent open: 85.57 %\n",
    "- Percent sale period: 44.12 %"
   ]
  },
  {
   "cell_type": "markdown",
   "id": "ongoing-fortune",
   "metadata": {
    "slideshow": {
     "slide_type": "subslide"
    }
   },
   "source": [
    "## Univariate Analysis\n",
    "<img src=\"./visuals/histogram_town.png\">\n",
    "<img src=\"./visuals/histogram_n_cust.png\">\n",
    "<img src=\"./visuals/histogram_revenue.png\">   \n",
    "  \n",
    "    \n",
    "      \n",
    "        \n",
    "        "
   ]
  },
  {
   "cell_type": "markdown",
   "id": "union-necessity",
   "metadata": {
    "slideshow": {
     "slide_type": "fragment"
    }
   },
   "source": [
    " \n",
    "  \n",
    "  "
   ]
  },
  {
   "cell_type": "markdown",
   "id": "informal-salem",
   "metadata": {
    "slideshow": {
     "slide_type": "subslide"
    }
   },
   "source": [
    "## Bivariate Analysis\n",
    "\n",
    "### Aggregated Time Series Year (2011)\n",
    "<img src=\"./visuals/timeserie_n_cust_2011-01-01_2011-12-31.png\">\n",
    "<img src=\"./visuals/timeserie_revenue_2011-01-01_2011-12-31.png\">\n",
    "\n",
    "### Aggregated Time Series Month (Mar 2011)\n",
    "<img src=\"./visuals/timeserie_n_cust_2011-03-01_2011-03-31.png\">\n",
    "<img src=\"./visuals/timeserie_revenue_2011-03-01_2011-03-31.png\">\n",
    "\n",
    "### Responses Scatterplot\n",
    "<img src=\"./visuals/scatterplot_responses.png\">\n",
    "\n",
    "### Revenues per Town\n",
    "<img src=\"./visuals/boxplot_revenue_store.png\">\n"
   ]
  },
  {
   "cell_type": "markdown",
   "id": "classical-groove",
   "metadata": {
    "slideshow": {
     "slide_type": "fragment"
    }
   },
   "source": []
  },
  {
   "cell_type": "markdown",
   "id": "above-russia",
   "metadata": {
    "slideshow": {
     "slide_type": "fragment"
    }
   },
   "source": [
    "## Correlations\n",
    "<img src=\"./visuals/corr_coef.png\">"
   ]
  },
  {
   "cell_type": "markdown",
   "id": "collected-debate",
   "metadata": {
    "slideshow": {
     "slide_type": "fragment"
    }
   },
   "source": []
  },
  {
   "cell_type": "markdown",
   "id": "cross-claim",
   "metadata": {
    "slideshow": {
     "slide_type": "slide"
    }
   },
   "source": [
    "# Forecasting"
   ]
  },
  {
   "cell_type": "markdown",
   "id": "strong-crazy",
   "metadata": {
    "slideshow": {
     "slide_type": "subslide"
    }
   },
   "source": [
    "## Considerations\n",
    "The data consists of 1009 stores, which every day reports a nr of features, for about 900 days. "
   ]
  },
  {
   "cell_type": "markdown",
   "id": "outside-minneapolis",
   "metadata": {
    "slideshow": {
     "slide_type": "subslide"
    }
   },
   "source": [
    "### Alternatives\n",
    "The forecast of n_cust and revenue could be considered as a time series or as a regression problem. \n",
    "\n",
    "- **TimeSeries**: Uni- and multivariate time series analysis methods were considered because of feature time dependency. For time series models we need to create 1009 models, one for each store, which is very difficult to maintain in production.\n",
    "    - The _univariate methods_ requires a unique date as index and would be possible to predict total n_cust and revenue for each date and without considering other features. Hence, we loose lots of information. \n",
    "    - The _multivariate method VAR (Vector AutoRegression)_ requires a unique date as index and would therefore help us to predict total n_cust and revenue for each date but not for each store.  \n",
    "    \n",
    "\n",
    "- **Regression**: The regresson models can deliver the required output.\n",
    "    - _Linear Regression (with PCA)_: Linear Regression problems require the data to have independent features, which we dont fulfill.\n",
    "    - _Ensemble Methods - XGBRegressor_: Does not require independent features but are likely to overfit and it's not sure if the results are interpolatable (which we would like for forecasting)."
   ]
  },
  {
   "cell_type": "markdown",
   "id": "numerous-newfoundland",
   "metadata": {
    "slideshow": {
     "slide_type": "subslide"
    }
   },
   "source": [
    "### Model Decision\n",
    "1. None of the methods are perfect for our purpose, at least the regression methods can produce the required outcome. \n",
    "2. Of the regression methods, I tested both to evalute their performance. **XGBoost** was the best performer for short-term forecasting."
   ]
  },
  {
   "cell_type": "markdown",
   "id": "integrated-journal",
   "metadata": {
    "slideshow": {
     "slide_type": "subslide"
    }
   },
   "source": [
    "## Computational Resources\n",
    "- MacBook Pro (13-inch, 2019, Four Thunderbolt 3 ports) \n",
    "- Processor 2,4 GHz Quad-Core Intel Core i5\n",
    "- Memory 8 GB 2133 MHz LPDDR3\n",
    "- Graphics Intel Iris Plus Graphics 655 1536 MB"
   ]
  },
  {
   "cell_type": "markdown",
   "id": "social-variation",
   "metadata": {
    "slideshow": {
     "slide_type": "subslide"
    }
   },
   "source": [
    "## Methodology\n",
    "\n",
    "### Cleaning\n",
    "Aside from a few outliers, the dataset was clean and tidy already. \n",
    "- No duplicates\n",
    "- No missing values\n",
    "\n",
    "### Preprocessing\n",
    "#### Feature Engineering\n",
    "Features were extracted for ordinal categorical values of:\n",
    "- Year\n",
    "- Month\n",
    "- Week of year\n",
    "- Week of month\n",
    "- Quarter\n",
    "- Season   \n",
    "\n",
    "The original date column was removed.  \n",
    "    \n",
    "      \n",
    "      \n",
    "  "
   ]
  },
  {
   "cell_type": "markdown",
   "id": "comprehensive-symphony",
   "metadata": {
    "slideshow": {
     "slide_type": "subslide"
    }
   },
   "source": [
    "#### One-Hot-Encoding\n",
    "One-Hot-Encoding was performed (although it is not required for tree based methods) for `store_id` and `town`. the original columns for store_id and town was removed.\n",
    "\n",
    "#### Feature Scaling\n",
    "Feature scaling was not required for our data, which was ordinal categorical data.  \n",
    "  \n",
    "    \n",
    "    \n"
   ]
  },
  {
   "cell_type": "markdown",
   "id": "southwest-eugene",
   "metadata": {
    "slideshow": {
     "slide_type": "subslide"
    }
   },
   "source": [
    "### Data Split\n",
    "First of all, due to performace issues with limited memory, the dataset was reduced to ~ 50 % of the original data by choosing the month between sep and feb. Therefore, the model is only valid for these months.\n",
    "\n",
    "The split into train and test data for the model was done by assigning ~ 10 % of the last consecutive dates into test data. In this way, all stores and all months were included in the training.\n",
    "\n",
    "Overfitting is a risk as no cross validation is performed. For 3 fold cross validation data could be divided into folds of each each year, with the least month (dec) as test set."
   ]
  },
  {
   "cell_type": "markdown",
   "id": "proud-hurricane",
   "metadata": {
    "slideshow": {
     "slide_type": "subslide"
    }
   },
   "source": [
    "### Model XGBRegressor\n",
    "The XGBRegressor model was used for both responses, because of high correlation between the responses. Additinally, values predicted below 0 were adjusted to 0.\n",
    "\n",
    "#### Scatterplot Predictions\n",
    "<img src=\"./visuals/scatterplot_xgb_ncust.png\">\n",
    "<img src=\"./visuals/scatterplot_xgb_revenue.png\">"
   ]
  },
  {
   "cell_type": "markdown",
   "id": "subjective-brook",
   "metadata": {
    "slideshow": {
     "slide_type": "subslide"
    }
   },
   "source": [
    "#### Important Features\n",
    "<img src=\"./visuals/topfeats_XGBRegressor_n_cust.png\">\n",
    "<img src=\"./visuals/topfeats_XGBRegressor_revenue.png\">\n",
    "  \n",
    "    \n",
    "      \n",
    "      "
   ]
  },
  {
   "cell_type": "markdown",
   "id": "inappropriate-textbook",
   "metadata": {
    "slideshow": {
     "slide_type": "subslide"
    }
   },
   "source": [
    "#### Hyperparameter Settings  \n",
    "The model has default hyperparameter settings and is not yet optimized on the hyper parameters. "
   ]
  },
  {
   "cell_type": "markdown",
   "id": "verified-providence",
   "metadata": {
    "slideshow": {
     "slide_type": "slide"
    }
   },
   "source": [
    "## Evaluation\n",
    "The tested models are stored in an evaluation matrix with model name, hyper parameter setting, MAE and RMSE. \n",
    "\n",
    "The model performance are evaluated on Mean Absolute Error (MAE) and Root Mean Squared Error (RMSE).\n",
    "\n"
   ]
  },
  {
   "cell_type": "markdown",
   "id": "humanitarian-perspective",
   "metadata": {
    "slideshow": {
     "slide_type": "fragment"
    }
   },
   "source": [
    "Results for n_cust predictions"
   ]
  },
  {
   "cell_type": "code",
   "execution_count": 2,
   "id": "informed-twenty",
   "metadata": {
    "slideshow": {
     "slide_type": "fragment"
    }
   },
   "outputs": [
    {
     "data": {
      "text/html": [
       "<div>\n",
       "<style scoped>\n",
       "    .dataframe tbody tr th:only-of-type {\n",
       "        vertical-align: middle;\n",
       "    }\n",
       "\n",
       "    .dataframe tbody tr th {\n",
       "        vertical-align: top;\n",
       "    }\n",
       "\n",
       "    .dataframe thead th {\n",
       "        text-align: right;\n",
       "    }\n",
       "</style>\n",
       "<table border=\"1\" class=\"dataframe\">\n",
       "  <thead>\n",
       "    <tr style=\"text-align: right;\">\n",
       "      <th></th>\n",
       "      <th>model</th>\n",
       "      <th>parameters</th>\n",
       "      <th>MAE</th>\n",
       "      <th>RMSE</th>\n",
       "    </tr>\n",
       "  </thead>\n",
       "  <tbody>\n",
       "    <tr>\n",
       "      <th>0</th>\n",
       "      <td>Lasso</td>\n",
       "      <td>{'alpha': 1.0, 'copy_X': True, 'fit_intercept'...</td>\n",
       "      <td>272.480000</td>\n",
       "      <td>382.750000</td>\n",
       "    </tr>\n",
       "    <tr>\n",
       "      <th>1</th>\n",
       "      <td>XGBRegressor</td>\n",
       "      <td>{'objective': 'reg:squarederror', 'base_score'...</td>\n",
       "      <td>170.260129</td>\n",
       "      <td>233.003534</td>\n",
       "    </tr>\n",
       "    <tr>\n",
       "      <th>2</th>\n",
       "      <td>XGBRegressor</td>\n",
       "      <td>{'objective': 'reg:squarederror', 'base_score'...</td>\n",
       "      <td>359.456236</td>\n",
       "      <td>503.673256</td>\n",
       "    </tr>\n",
       "    <tr>\n",
       "      <th>3</th>\n",
       "      <td>XGBRegressor</td>\n",
       "      <td>{'objective': 'reg:squarederror', 'base_score'...</td>\n",
       "      <td>361.035418</td>\n",
       "      <td>504.523145</td>\n",
       "    </tr>\n",
       "    <tr>\n",
       "      <th>4</th>\n",
       "      <td>XGBRegressor</td>\n",
       "      <td>{'objective': 'reg:squarederror', 'base_score'...</td>\n",
       "      <td>167.816365</td>\n",
       "      <td>232.785170</td>\n",
       "    </tr>\n",
       "    <tr>\n",
       "      <th>5</th>\n",
       "      <td>XGBRegressor</td>\n",
       "      <td>{'objective': 'reg:squarederror', 'base_score'...</td>\n",
       "      <td>173.736974</td>\n",
       "      <td>246.131963</td>\n",
       "    </tr>\n",
       "  </tbody>\n",
       "</table>\n",
       "</div>"
      ],
      "text/plain": [
       "          model                                         parameters  \\\n",
       "0         Lasso  {'alpha': 1.0, 'copy_X': True, 'fit_intercept'...   \n",
       "1  XGBRegressor  {'objective': 'reg:squarederror', 'base_score'...   \n",
       "2  XGBRegressor  {'objective': 'reg:squarederror', 'base_score'...   \n",
       "3  XGBRegressor  {'objective': 'reg:squarederror', 'base_score'...   \n",
       "4  XGBRegressor  {'objective': 'reg:squarederror', 'base_score'...   \n",
       "5  XGBRegressor  {'objective': 'reg:squarederror', 'base_score'...   \n",
       "\n",
       "          MAE        RMSE  \n",
       "0  272.480000  382.750000  \n",
       "1  170.260129  233.003534  \n",
       "2  359.456236  503.673256  \n",
       "3  361.035418  504.523145  \n",
       "4  167.816365  232.785170  \n",
       "5  173.736974  246.131963  "
      ]
     },
     "execution_count": 2,
     "metadata": {},
     "output_type": "execute_result"
    }
   ],
   "source": [
    "pd.read_csv('./data/modelling_results_mae.csv', index_col=0)"
   ]
  },
  {
   "cell_type": "markdown",
   "id": "geographic-practice",
   "metadata": {
    "slideshow": {
     "slide_type": "fragment"
    }
   },
   "source": [
    "Results for revenue predictions"
   ]
  },
  {
   "cell_type": "code",
   "execution_count": 3,
   "id": "variable-anime",
   "metadata": {
    "slideshow": {
     "slide_type": "fragment"
    }
   },
   "outputs": [
    {
     "data": {
      "text/html": [
       "<div>\n",
       "<style scoped>\n",
       "    .dataframe tbody tr th:only-of-type {\n",
       "        vertical-align: middle;\n",
       "    }\n",
       "\n",
       "    .dataframe tbody tr th {\n",
       "        vertical-align: top;\n",
       "    }\n",
       "\n",
       "    .dataframe thead th {\n",
       "        text-align: right;\n",
       "    }\n",
       "</style>\n",
       "<table border=\"1\" class=\"dataframe\">\n",
       "  <thead>\n",
       "    <tr style=\"text-align: right;\">\n",
       "      <th></th>\n",
       "      <th>model</th>\n",
       "      <th>parameters</th>\n",
       "      <th>MAE</th>\n",
       "      <th>RMSE</th>\n",
       "    </tr>\n",
       "  </thead>\n",
       "  <tbody>\n",
       "    <tr>\n",
       "      <th>0</th>\n",
       "      <td>XGBRegressor</td>\n",
       "      <td>{'objective': 'reg:squarederror', 'base_score'...</td>\n",
       "      <td>1565.537094</td>\n",
       "      <td>2245.944976</td>\n",
       "    </tr>\n",
       "    <tr>\n",
       "      <th>1</th>\n",
       "      <td>XGBRegressor</td>\n",
       "      <td>{'objective': 'reg:squarederror', 'base_score'...</td>\n",
       "      <td>1534.648491</td>\n",
       "      <td>2224.810586</td>\n",
       "    </tr>\n",
       "  </tbody>\n",
       "</table>\n",
       "</div>"
      ],
      "text/plain": [
       "          model                                         parameters  \\\n",
       "0  XGBRegressor  {'objective': 'reg:squarederror', 'base_score'...   \n",
       "1  XGBRegressor  {'objective': 'reg:squarederror', 'base_score'...   \n",
       "\n",
       "           MAE         RMSE  \n",
       "0  1565.537094  2245.944976  \n",
       "1  1534.648491  2224.810586  "
      ]
     },
     "execution_count": 3,
     "metadata": {},
     "output_type": "execute_result"
    }
   ],
   "source": [
    "pd.read_csv('./data/modelling_results_mae_revenue.csv', index_col=0)"
   ]
  },
  {
   "cell_type": "markdown",
   "id": "measured-magazine",
   "metadata": {
    "slideshow": {
     "slide_type": "subslide"
    }
   },
   "source": [
    "### Usefulness\n",
    "**XGBRegressor for n_cust**  \n",
    "Average n_cust: 773.3 & average MAE: 173.21 -> 22.4% error \n",
    "The prediction has less than average error for 677 stores  \n",
    "The prediction has higher than average error for 332 stores\n",
    "\n",
    "**XGBRegressor for revenue**\n",
    "Average n_cust: 7048.17 & average MAE: 1529.29 -> 22.4% error\n",
    "The prediction has less than average error for 636 stores\n",
    "The prediction has higher than average error for 373 stores"
   ]
  },
  {
   "cell_type": "markdown",
   "id": "altered-adrian",
   "metadata": {
    "slideshow": {
     "slide_type": "fragment"
    }
   },
   "source": [
    "As additional output .csv-files are created for decision making of which stores the model is useful for. See below for n_cust and revenue.\n"
   ]
  },
  {
   "cell_type": "code",
   "execution_count": 4,
   "id": "indirect-nature",
   "metadata": {
    "slideshow": {
     "slide_type": "fragment"
    }
   },
   "outputs": [
    {
     "data": {
      "text/html": [
       "<div>\n",
       "<style scoped>\n",
       "    .dataframe tbody tr th:only-of-type {\n",
       "        vertical-align: middle;\n",
       "    }\n",
       "\n",
       "    .dataframe tbody tr th {\n",
       "        vertical-align: top;\n",
       "    }\n",
       "\n",
       "    .dataframe thead th {\n",
       "        text-align: right;\n",
       "    }\n",
       "</style>\n",
       "<table border=\"1\" class=\"dataframe\">\n",
       "  <thead>\n",
       "    <tr style=\"text-align: right;\">\n",
       "      <th></th>\n",
       "      <th>store_id</th>\n",
       "      <th>percentage_error</th>\n",
       "    </tr>\n",
       "  </thead>\n",
       "  <tbody>\n",
       "    <tr>\n",
       "      <th>0</th>\n",
       "      <td>1</td>\n",
       "      <td>0.231043</td>\n",
       "    </tr>\n",
       "    <tr>\n",
       "      <th>1</th>\n",
       "      <td>2</td>\n",
       "      <td>0.219152</td>\n",
       "    </tr>\n",
       "    <tr>\n",
       "      <th>2</th>\n",
       "      <td>3</td>\n",
       "      <td>0.144744</td>\n",
       "    </tr>\n",
       "    <tr>\n",
       "      <th>3</th>\n",
       "      <td>4</td>\n",
       "      <td>0.187670</td>\n",
       "    </tr>\n",
       "    <tr>\n",
       "      <th>4</th>\n",
       "      <td>5</td>\n",
       "      <td>0.353193</td>\n",
       "    </tr>\n",
       "  </tbody>\n",
       "</table>\n",
       "</div>"
      ],
      "text/plain": [
       "   store_id  percentage_error\n",
       "0         1          0.231043\n",
       "1         2          0.219152\n",
       "2         3          0.144744\n",
       "3         4          0.187670\n",
       "4         5          0.353193"
      ]
     },
     "execution_count": 4,
     "metadata": {},
     "output_type": "execute_result"
    }
   ],
   "source": [
    "ncust_errors = pd.read_csv('./data/results_comparison_ncust.csv', index_col=0).head()\n",
    "ncust_errors[['store_id', 'percentage_error']]"
   ]
  },
  {
   "cell_type": "code",
   "execution_count": 5,
   "id": "detected-shock",
   "metadata": {
    "slideshow": {
     "slide_type": "fragment"
    }
   },
   "outputs": [
    {
     "data": {
      "text/html": [
       "<div>\n",
       "<style scoped>\n",
       "    .dataframe tbody tr th:only-of-type {\n",
       "        vertical-align: middle;\n",
       "    }\n",
       "\n",
       "    .dataframe tbody tr th {\n",
       "        vertical-align: top;\n",
       "    }\n",
       "\n",
       "    .dataframe thead th {\n",
       "        text-align: right;\n",
       "    }\n",
       "</style>\n",
       "<table border=\"1\" class=\"dataframe\">\n",
       "  <thead>\n",
       "    <tr style=\"text-align: right;\">\n",
       "      <th></th>\n",
       "      <th>store_id</th>\n",
       "      <th>percentage_error</th>\n",
       "    </tr>\n",
       "  </thead>\n",
       "  <tbody>\n",
       "    <tr>\n",
       "      <th>0</th>\n",
       "      <td>1</td>\n",
       "      <td>0.367086</td>\n",
       "    </tr>\n",
       "    <tr>\n",
       "      <th>1</th>\n",
       "      <td>2</td>\n",
       "      <td>0.326827</td>\n",
       "    </tr>\n",
       "    <tr>\n",
       "      <th>2</th>\n",
       "      <td>3</td>\n",
       "      <td>0.124846</td>\n",
       "    </tr>\n",
       "    <tr>\n",
       "      <th>3</th>\n",
       "      <td>4</td>\n",
       "      <td>0.160284</td>\n",
       "    </tr>\n",
       "    <tr>\n",
       "      <th>4</th>\n",
       "      <td>5</td>\n",
       "      <td>0.359070</td>\n",
       "    </tr>\n",
       "  </tbody>\n",
       "</table>\n",
       "</div>"
      ],
      "text/plain": [
       "   store_id  percentage_error\n",
       "0         1          0.367086\n",
       "1         2          0.326827\n",
       "2         3          0.124846\n",
       "3         4          0.160284\n",
       "4         5          0.359070"
      ]
     },
     "execution_count": 5,
     "metadata": {},
     "output_type": "execute_result"
    }
   ],
   "source": [
    "rev_errors = pd.read_csv('./data/results_comparison_revenue.csv', index_col=0).head()\n",
    "rev_errors[['store_id', 'percentage_error']]\n"
   ]
  },
  {
   "cell_type": "markdown",
   "id": "brave-unknown",
   "metadata": {
    "slideshow": {
     "slide_type": "slide"
    }
   },
   "source": [
    "# Conclusion\n",
    "**Can we produce forecast predictions from n_cust and revenue?**   \n",
    "Yes, we can.\n",
    "\n",
    "**Are the model predictions accurate enough to be useful?**\n",
    "- It depends, are the results better than the current situation?\n",
    "- To determine for which stores the model can be useful, please define the treashold of error tolerance. \n"
   ]
  },
  {
   "cell_type": "markdown",
   "id": "musical-oxford",
   "metadata": {
    "slideshow": {
     "slide_type": "slide"
    }
   },
   "source": [
    "# Future Suggestions\n",
    "- Improve model performance: \n",
    "    - Investigate the cause of the outliers\n",
    "    - Investigate skewness of the response variables\n",
    "    - Add public holidays as a date-feature\n",
    "    - Investgate feature selection based on correlation coefficients (feature selection by XGBoost feature importance decreased performance).\n",
    "    - Cross Validation with stratified splitted data\n",
    "- Use MAPE as evaluation metric for easier interpretation and compare with current manual predictability\n",
    "- Create a pipeline for production\n",
    "- Track the model tests and the performance with a ML-tracking tool such as MLflow"
   ]
  },
  {
   "cell_type": "markdown",
   "id": "premium-hughes",
   "metadata": {
    "slideshow": {
     "slide_type": "subslide"
    }
   },
   "source": [
    "# Thank you! \n",
    "## Do you have any feedback?"
   ]
  },
  {
   "cell_type": "markdown",
   "id": "alone-cancellation",
   "metadata": {
    "slideshow": {
     "slide_type": "skip"
    }
   },
   "source": []
  },
  {
   "cell_type": "code",
   "execution_count": null,
   "id": "alternate-scenario",
   "metadata": {
    "slideshow": {
     "slide_type": "skip"
    }
   },
   "outputs": [
    {
     "name": "stdout",
     "output_type": "stream",
     "text": [
      "[NbConvertApp] Converting notebook sales-forecast-report.ipynb to slides\n",
      "[NbConvertApp] Writing 601733 bytes to sales-forecast-report.slides.html\n",
      "[NbConvertApp] Redirecting reveal.js requests to https://cdnjs.cloudflare.com/ajax/libs/reveal.js/3.5.0\n",
      "Serving your slides at http://127.0.0.1:8000/sales-forecast-report.slides.html\n",
      "Use Control-C to stop this server\n"
     ]
    }
   ],
   "source": [
    "# to run slideshow \n",
    "!jupyter nbconvert sales-forecast-report.ipynb --to slides --post serve --SlidesExporter.reveal_scroll=True\n"
   ]
  },
  {
   "cell_type": "code",
   "execution_count": null,
   "id": "israeli-guidance",
   "metadata": {},
   "outputs": [],
   "source": []
  }
 ],
 "metadata": {
  "celltoolbar": "Slideshow",
  "kernelspec": {
   "display_name": "Python 3",
   "language": "python",
   "name": "python3"
  },
  "language_info": {
   "codemirror_mode": {
    "name": "ipython",
    "version": 3
   },
   "file_extension": ".py",
   "mimetype": "text/x-python",
   "name": "python",
   "nbconvert_exporter": "python",
   "pygments_lexer": "ipython3",
   "version": "3.8.5"
  }
 },
 "nbformat": 4,
 "nbformat_minor": 5
}
